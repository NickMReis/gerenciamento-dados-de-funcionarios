{
  "nbformat": 4,
  "nbformat_minor": 0,
  "metadata": {
    "colab": {
      "provenance": [],
      "collapsed_sections": [
        "SWQq_4C-_uXH",
        "MpOuwSQYAXVt",
        "R9AH7x-fAeb0"
      ]
    },
    "kernelspec": {
      "name": "python3",
      "display_name": "Python 3"
    },
    "language_info": {
      "name": "python"
    }
  },
  "cells": [
    {
      "cell_type": "markdown",
      "source": [
        "#Pandas: Gerenciamento de dados de funcionários\n",
        "\n",
        "Projeto de gerenciamento de dados de funcionários de uma empresa usando os conhecimentos aprendidos com Pandas.\n",
        "\n",
        "Employee Data Management Project using Pandas"
      ],
      "metadata": {
        "id": "HRbgh6Umbuib"
      }
    },
    {
      "cell_type": "markdown",
      "source": [
        "## Imports"
      ],
      "metadata": {
        "id": "YKSazrE6_XTO"
      }
    },
    {
      "cell_type": "code",
      "source": [
        "#Importações de bibliotecas\n",
        "#Imports\n",
        "import pandas as pd\n",
        "import datetime\n",
        "import pytz"
      ],
      "metadata": {
        "id": "4vKxpO4LlfU2"
      },
      "execution_count": 1,
      "outputs": []
    },
    {
      "cell_type": "markdown",
      "source": [
        "## Get data and create a DataFrame"
      ],
      "metadata": {
        "id": "SWQq_4C-_uXH"
      }
    },
    {
      "cell_type": "code",
      "source": [
        "#Obter dados\n",
        "#Get data\n",
        "df_employees = pd.read_csv(\"employees.csv\")\n",
        "df_employees"
      ],
      "metadata": {
        "id": "s2FQW576moYT"
      },
      "execution_count": null,
      "outputs": []
    },
    {
      "cell_type": "code",
      "source": [
        "#Obter dados\n",
        "#Get data\n",
        "df_non_active_employees = pd.read_csv(\"non_active_employees.csv\")\n",
        "df_non_active_employees"
      ],
      "metadata": {
        "id": "_VevKrmojLfM"
      },
      "execution_count": null,
      "outputs": []
    },
    {
      "cell_type": "markdown",
      "source": [
        "## Backups"
      ],
      "metadata": {
        "id": "JC4aoww__1aP"
      }
    },
    {
      "cell_type": "code",
      "source": [
        "#Fazer backup do arquivo\n",
        "#Create a backup of the file\n",
        "\n",
        "#O código obtem a dia e hora e baixa o arquivo com esse tempo escrito no nome do arquivo.\n",
        "#This code gets the day and time and downloads the file with the time written in the file name.\n",
        "fuso_horario = pytz.timezone(\"America/Sao_Paulo\")\n",
        "time = datetime.datetime.now(fuso_horario)\n",
        "df_employees.to_csv(f\"employees_backup_{time.strftime('%d-%m-%Y_%H-%M-%S')}.csv\", index=False)\n",
        "df_non_active_employees.to_csv(f\"non_active_employees_backup_{time.strftime('%d-%m-%Y_%H-%M-%S')}.csv\", index=False)"
      ],
      "metadata": {
        "id": "TEu3sgrEmuWz"
      },
      "execution_count": 4,
      "outputs": []
    },
    {
      "cell_type": "code",
      "source": [
        "#Restaurar de backup employees.csv\n",
        "#Restore\n",
        "\n",
        "#Import os para verificar a existência do arquivo / Import os to check if the file exists\n",
        "import os\n",
        "\n",
        "fileName = input(\"Digite o nome do arquivo que deseja restaurar (com extensão): \")\n",
        "\n",
        "if not os.path.exists(fileName):\n",
        "  print(\"Arquivo não encontrado\")\n",
        "  exit()\n",
        "else:\n",
        "  df_employees_backup = pd.read_csv(fileName)\n",
        "  df_employees_backup.to_csv(\"employees.csv\", index=False)\n",
        "  print(\"Backup restaurado com sucesso\")\n",
        "  df_employees = pd.read_csv(\"employees.csv\")"
      ],
      "metadata": {
        "id": "MPIJcxZP4JcT"
      },
      "execution_count": null,
      "outputs": []
    },
    {
      "cell_type": "code",
      "source": [
        "#Restaurar de backup non_active_employees.csv\n",
        "#Restore\n",
        "\n",
        "#Import os para verificar a existência do arquivo / Import os to check if the file exists\n",
        "import os\n",
        "\n",
        "fileName = input(\"Digite o nome do arquivo que deseja restaurar (com extensão): \")\n",
        "if not os.path.exists(fileName):\n",
        "  print(\"Arquivo não encontrado\")\n",
        "  exit()\n",
        "else:\n",
        "  df_non_active_employees_backup = pd.read_csv(fileName)\n",
        "  df_non_active_employees_backup.to_csv(\"non_active_employees.csv\", index=False)\n",
        "  print(\"Backup restaurado com sucesso\")\n",
        "  df_non_active_employees = pd.read_csv(\"non_active_employees.csv\")"
      ],
      "metadata": {
        "id": "Wb5GQBR1vGbq"
      },
      "execution_count": null,
      "outputs": []
    },
    {
      "cell_type": "markdown",
      "source": [
        "## Data Manipulation"
      ],
      "metadata": {
        "id": "0t51m1eKC3PU"
      }
    },
    {
      "cell_type": "markdown",
      "source": [
        "### Search data"
      ],
      "metadata": {
        "id": "UdgcM0GFC-kv"
      }
    },
    {
      "cell_type": "code",
      "source": [
        "#Consultar dados do funcionário pesquisando pelo nome\n",
        "#Search employee data searching by name\n",
        "\n",
        "def search_employee_by_name(name):\n",
        "  df_result = df_employees[df_employees[\"Nome\"].str.contains(name)]\n",
        "\n",
        "  if df_result.empty:\n",
        "    print(\"Funcionário não encontrado\")\n",
        "    return\n",
        "\n",
        "  return df_result\n",
        "\n",
        "nameSearch = input(\"Digite o nome do funcionário: \")\n",
        "search_employee_by_name(nameSearch)"
      ],
      "metadata": {
        "id": "jx0QqEtuksWQ"
      },
      "execution_count": null,
      "outputs": []
    },
    {
      "cell_type": "code",
      "source": [
        "#Consultar dados do funcionário pesquisando pelo ID\n",
        "#Search employee data searching by ID\n",
        "\n",
        "def search_employee_by_id(id):\n",
        "  df_result = df_employees[df_employees[\"ID\"] == id]\n",
        "\n",
        "  if df_result.empty:\n",
        "    print(\"Funcionário não encontrado\")\n",
        "    return\n",
        "\n",
        "  return df_result\n",
        "\n",
        "id = int(input(\"Digite o id do funcionário: \"))\n",
        "search_employee_by_id(id)"
      ],
      "metadata": {
        "id": "pKa9t3hwv9zY"
      },
      "execution_count": null,
      "outputs": []
    },
    {
      "cell_type": "markdown",
      "source": [
        "### Add data"
      ],
      "metadata": {
        "id": "MpOuwSQYAXVt"
      }
    },
    {
      "cell_type": "code",
      "source": [
        "#Adicionar novos funcionários\n",
        "#Add new employees\n",
        "\n",
        "#Check if ID have already been added\n",
        "def check_id(id):\n",
        "  while id in df_non_active_employees[\"ID\"].values:\n",
        "    id = id + 1\n",
        "  return id\n",
        "\n",
        "def add_new_employee(new_employee):\n",
        "  #Create a new DataFrame and concat df_employees and new_employee\n",
        "  df_new_employee = pd.DataFrame(new_employee, index=[0])\n",
        "\n",
        "  df_employees_updated = pd.concat([get_main_df(), df_new_employee], ignore_index=True)\n",
        "  df_employees_updated.to_csv(\"employees.csv\", index=False)\n",
        "  print(\"Funcionário adicionado com sucesso\")\n",
        "\n",
        "def get_new_employee_data():\n",
        "  #Type employee data\n",
        "  id = df_employees[\"ID\"].max() + 1\n",
        "  id = check_id(id)\n",
        "  name = input(\"Digite o nome do novo funcionário: \")\n",
        "  age = int(input(\"Digite a idade do novo funcionário: \"))\n",
        "  telephone = input(\"Digite o telefone do novo funcionário: \")\n",
        "  email = input(\"Digite o email do novo funcionário: \")\n",
        "  department = input(\"Digite o departamento do novo funcionário: \")\n",
        "  position = input(\"Digite o cargo do novo funcionário: \")\n",
        "  salary = float(input(\"Digite o salário do novo funcionário: \"))\n",
        "  date = time.strftime(\"%d/%m/%Y\")\n",
        "\n",
        "  new_employee = {\"ID\": id,\n",
        "                  \"Nome\": name,\n",
        "                  \"Idade\": age,\n",
        "                  \"Telefone\": telephone,\n",
        "                  \"Email\": email,\n",
        "                  \"Data de admissão\": date,\n",
        "                  \"Departamento\": department,\n",
        "                  \"Cargo\": position,\n",
        "                  \"Salário\": salary\n",
        "                  }\n",
        "  return new_employee\n",
        "\n",
        "def get_main_df():\n",
        "  return df_employees\n",
        "\n",
        "new_employee = get_new_employee_data()\n",
        "add_new_employee(new_employee)\n",
        "\n",
        "#The main DataFrame read the updated file\n",
        "df_employees = pd.read_csv(\"employees.csv\")\n",
        "df_employees"
      ],
      "metadata": {
        "id": "N91v0lKAy73t"
      },
      "execution_count": null,
      "outputs": []
    },
    {
      "cell_type": "markdown",
      "source": [
        "### Delete data"
      ],
      "metadata": {
        "id": "uo26P905AamE"
      }
    },
    {
      "cell_type": "code",
      "source": [
        "#Excluir um funcionário\n",
        "#Delete an employee\n",
        "\n",
        "def delete_employee_by_id(id):\n",
        "  df_result = df_employees[df_employees[\"ID\"] == id]\n",
        "\n",
        "  if df_result.empty:\n",
        "    print(\"Funcionário não encontrado\")\n",
        "    return\n",
        "\n",
        "  add_employee_in_non_active_employees(df_result)\n",
        "  df_employees.drop(df_result.index, inplace=True)\n",
        "  df_employees.reset_index(drop=True, inplace=True)\n",
        "  print(\"Funcionário excluído com sucesso\")\n",
        "\n",
        "def delete_employee_by_name(name):\n",
        "  df_result = df_employees[df_employees[\"Nome\"].str.contains(name)]\n",
        "\n",
        "  if df_result.empty:\n",
        "    print(\"Funcionário não encontrado\")\n",
        "    return\n",
        "\n",
        "  if len(df_result) > 1:\n",
        "    df_result\n",
        "    print(\"Encontramos mais de um funcionário com esse nome. Por favor, digite o ID do funcionário que deseja excluir.\")\n",
        "    id  = int(input(\"Digite o ID do funcionário que deseja excluir: \"))\n",
        "    delete_employee_by_id(id)\n",
        "    return\n",
        "\n",
        "  add_employee_in_non_active_employees(df_result)\n",
        "  df_employees.drop(df_result.index, inplace=True)\n",
        "  df_employees.reset_index(drop=True, inplace=True)\n",
        "  print(\"Funcionário excluído com sucesso\")\n",
        "\n",
        "\n",
        "\n",
        "#Atualiza o DataFrame de Funcionários não ativos\n",
        "#Update Non Active Employees DataFrame\n",
        "def add_employee_in_non_active_employees(df_result):\n",
        "  df_result = pd.DataFrame(df_result)\n",
        "  df_result[\"Data de saída\"] = time.strftime(\"%d/%m/%Y\")\n",
        "\n",
        "  df_non_active_employees_updated = pd.concat([get_non_active_employees_df(), df_result], ignore_index=True)\n",
        "  df_non_active_employees_updated = df_non_active_employees_updated.sort_values(by=\"ID\").reset_index(drop=True)\n",
        "  df_non_active_employees_updated.to_csv(\"non_active_employees.csv\", index=False)\n",
        "\n",
        "def get_non_active_employees_df():\n",
        "  return df_non_active_employees\n",
        "\n",
        "\n",
        "\n",
        "#O usuário escolhe se vai excluir por ID ou pelo nome\n",
        "#The user chooses whether to delete the employee by ID or by name\n",
        "choose = input(\"Digite 1 para pesquisar por ID ou 2 para pesquisar por nome: \")\n",
        "if(choose == \"1\"):\n",
        "  id = int(input(\"Digite o ID do funcionário que deseja excluir: \"))\n",
        "  delete_employee_by_id(id)\n",
        "elif(choose == \"2\"):\n",
        "  name = input(\"Digite o nome do funcionário que deseja excluir: \")\n",
        "  delete_employee_by_name(name)\n",
        "else:\n",
        "  print(\"Opção inválida\")\n",
        "  exit()\n",
        "\n",
        "\n",
        "\n",
        "#Atualiza o DataFrame principal\n",
        "#Update the main DataFrame\n",
        "df_employees.to_csv(\"employees.csv\")\n",
        "df_non_active_employees = pd.read_csv(\"non_active_employees.csv\")\n",
        "df_employees"
      ],
      "metadata": {
        "id": "ioP6nLFYzmdW"
      },
      "execution_count": null,
      "outputs": []
    },
    {
      "cell_type": "code",
      "source": [
        "#Check changes in non_active_employees DataFrame\n",
        "df_non_active_employees"
      ],
      "metadata": {
        "id": "401CcGrsmoXa"
      },
      "execution_count": null,
      "outputs": []
    },
    {
      "cell_type": "markdown",
      "source": [
        "### Change data"
      ],
      "metadata": {
        "id": "R9AH7x-fAeb0"
      }
    },
    {
      "cell_type": "code",
      "source": [
        "#Alterar dados de um funcionário\n",
        "#Change employee data\n",
        "def get_employee_by_id(id):\n",
        "  df_result = df_employees[df_employees[\"ID\"] == id]\n",
        "\n",
        "  if df_result.empty:\n",
        "    print(\"Funcionário não encontrado\")\n",
        "    return\n",
        "\n",
        "  print(\"Dados do funcionário:\")\n",
        "  print(df_result)\n",
        "\n",
        "  change_employee_data(df_result)\n",
        "\n",
        "def get_employee_by_name():\n",
        "  df_employees\n",
        "\n",
        "def change_employee_data(df_result):\n",
        "  choose_column = input(\"Digite o nome da coluna que deseja alterar: \")\n",
        "  if choose_column not in df_result.columns:\n",
        "    print(\"Coluna não encontrada\")\n",
        "    return\n",
        "\n",
        "  employeeName = df_result[\"Nome\"].values[0]\n",
        "  new_value = input(f\"Digite o novo dado para o funcionário {employeeName} na coluna {choose_column}: \")\n",
        "  if choose_column == \"Salário\":\n",
        "    new_value = float(new_value)\n",
        "  if choose_column == \"ID\" or choose_column == \"Idade\":\n",
        "    new_value = int(new_value)\n",
        "\n",
        "  df_employees.loc[df_result.index, choose_column] = new_value\n",
        "\n",
        "id = int(input(\"Digite o ID do funcionário que deseja alterar os dados: \"))\n",
        "get_employee_by_id(id)\n",
        "\n",
        "#name = input(\"Digite o nome do funcionário que deseja alterar os dados: \")\n",
        "#get_employee_by_name(name)\n",
        "\n",
        "df_employees.to_csv(\"employees.csv\")\n",
        "df_employees"
      ],
      "metadata": {
        "id": "NPQV8qlIeEIz"
      },
      "execution_count": null,
      "outputs": []
    },
    {
      "cell_type": "markdown",
      "source": [
        "### Create new column"
      ],
      "metadata": {
        "id": "XCoYIBSGAlHl"
      }
    },
    {
      "cell_type": "code",
      "source": [
        "#Criando uma coluna de Salário Anual\n",
        "#Creating an Annual Salary column\n",
        "df_employees[\"Salário Anual\"] = df_employees[\"Salário\"] * 12\n",
        "df_employees.to_csv(\"employees.csv\")\n",
        "df_employees"
      ],
      "metadata": {
        "id": "ieqCo7XjYogv"
      },
      "execution_count": null,
      "outputs": []
    },
    {
      "cell_type": "markdown",
      "source": [
        "### Separate data"
      ],
      "metadata": {
        "id": "r360wnqjA9hn"
      }
    },
    {
      "cell_type": "code",
      "source": [
        "#Separar funcionários por departamento\n",
        "#Separate employees by department\n",
        "\n",
        "def get_employees_by_department(department):\n",
        "  df_result = df_employees[df_employees[\"Departamento\"] == department]\n",
        "\n",
        "  if df_result.empty:\n",
        "    print(\"Departamento não encontrado\")\n",
        "    return\n",
        "\n",
        "  return df_result\n",
        "\n",
        "department = input(\"Digite o departamento que deseja ver os funcionários: \")\n",
        "get_employees_by_department(department)"
      ],
      "metadata": {
        "id": "xwX6gDD21zEl"
      },
      "execution_count": null,
      "outputs": []
    },
    {
      "cell_type": "markdown",
      "source": [
        "## New DataFrames"
      ],
      "metadata": {
        "id": "be9gAlnh_Orm"
      }
    },
    {
      "cell_type": "markdown",
      "source": [
        "### Departments"
      ],
      "metadata": {
        "id": "bCi6b6wsBKn1"
      }
    },
    {
      "cell_type": "code",
      "source": [
        "#Dados gerais por departamento\n",
        "#General data by departments\n",
        "\n",
        "#Cria um array de departamentos\n",
        "#Create an array called departments.\n",
        "departments = df_employees[\"Departamento\"].unique()\n",
        "\n",
        "\n",
        "#Obtem a quantidade de pessoas por departamento\n",
        "#Get the number of people by department\n",
        "people_by_department = df_employees[\"Departamento\"].value_counts()\n",
        "\n",
        "\n",
        "#Obtem a media de idade de pessoas no departamento\n",
        "#Get the average age of people in each department\n",
        "average_age_by_department = df_employees.groupby(\"Departamento\")[\"Idade\"].mean().round(2)\n",
        "\n",
        "\n",
        "#Obtem os principais dados relacionados a salario\n",
        "#Get main data about salary\n",
        "max_salary_by_department = df_employees.groupby(\"Departamento\")[\"Salário\"].max()\n",
        "min_salary_by_department = df_employees.groupby(\"Departamento\")[\"Salário\"].min()\n",
        "sum_salary_by_department = df_employees.groupby(\"Departamento\")[\"Salário\"].sum().round(2)\n",
        "average_salary_by_department = df_employees.groupby(\"Departamento\")[\"Salário\"].mean().round(2)\n",
        "annual_sum_salary_by_department = df_employees.groupby(\"Departamento\")[\"Salário Anual\"].sum().round(2)\n",
        "annual_average_salary_by_department = df_employees.groupby(\"Departamento\")[\"Salário Anual\"].mean().round(2)\n",
        "\n",
        "\n",
        "#Cria um DataFrame contendo todos os dados\n",
        "#Create a DataFrame with all data\n",
        "df_departments = pd.DataFrame(departments, columns=[\"Departamento\"])\n",
        "df_departments[\"Quantidade de Funcionários\"] = df_departments[\"Departamento\"].map(people_by_department)\n",
        "df_departments[\"Média de Idade\"] = df_departments[\"Departamento\"].map(average_age_by_department)\n",
        "df_departments[\"Maior Salário\"] = df_departments[\"Departamento\"].map(max_salary_by_department)\n",
        "df_departments[\"Menor Salário\"] = df_departments[\"Departamento\"].map(min_salary_by_department)\n",
        "df_departments[\"Soma Salarial\"] = df_departments[\"Departamento\"].map(sum_salary_by_department)\n",
        "df_departments[\"Media Salarial\"] = df_departments[\"Departamento\"].map(average_salary_by_department)\n",
        "df_departments[\"Soma Salarial Anual\"] = df_departments[\"Departamento\"].map(annual_sum_salary_by_department)\n",
        "df_departments[\"Media Salarial Anual\"] = df_departments[\"Departamento\"].map(annual_average_salary_by_department)\n",
        "\n",
        "#Print and save the file\n",
        "df_departments.to_csv(\"departments_infos.csv\")\n",
        "df_departments"
      ],
      "metadata": {
        "id": "mzU1dMTnZLF3"
      },
      "execution_count": null,
      "outputs": []
    },
    {
      "cell_type": "markdown",
      "source": [
        "### Company data"
      ],
      "metadata": {
        "id": "SLDeR2n__IAt"
      }
    },
    {
      "cell_type": "code",
      "source": [
        "#Dados da empresa\n",
        "#Company data\n",
        "companyName = \"Cool Company\"\n",
        "sum_quant_employees = df_employees[\"ID\"].count()\n",
        "average_age = df_employees[\"Idade\"].mean().round(2)\n",
        "sum_quant_departments = df_employees[\"Departamento\"].nunique()\n",
        "sum_salary = df_employees[\"Salário\"].sum().round(2)\n",
        "average_salary = df_employees[\"Salário\"].mean().round(2)\n",
        "annual_sum_salary = df_employees[\"Salário Anual\"].sum().round(2)\n",
        "annual_average_salary = df_employees[\"Salário Anual\"].mean().round(2)\n",
        "\n",
        "df_company = pd.DataFrame({\"Empresa\": [companyName]})\n",
        "df_company[\"Quantidade de Funcionários\"] = sum_quant_employees\n",
        "df_company[\"Média de Idade\"] = average_age\n",
        "df_company[\"Quantidade de Departamentos\"] = sum_quant_departments\n",
        "df_company[\"Soma Salarial\"] = sum_salary\n",
        "df_company[\"Media Salarial\"] = average_salary\n",
        "df_company[\"Soma Salarial Anual\"] = annual_sum_salary\n",
        "df_company[\"Media Salarial Anual\"] = annual_average_salary\n",
        "\n",
        "df_company.to_csv(\"company_infos.csv\")\n",
        "df_company"
      ],
      "metadata": {
        "id": "drdSjmUl4zyC"
      },
      "execution_count": null,
      "outputs": []
    }
  ]
}